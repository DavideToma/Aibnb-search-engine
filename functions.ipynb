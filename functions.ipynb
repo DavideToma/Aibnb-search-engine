{
 "cells": [
  {
   "cell_type": "code",
   "execution_count": 23,
   "metadata": {},
   "outputs": [],
   "source": [
    "#function tfidf\n",
    "def tf_idf(word,doc,D,N):\n",
    "    import math\n",
    "    f = doc.count(word) / len(doc)\n",
    "    tfidf = math.log(D/N)*f\n",
    "    \n",
    "    return (tfidf)\n",
    "\n",
    "#function cosine similarity\n",
    "\n",
    "def cosine_sim(x , y):\n",
    "    import numpy as np\n",
    "    \n",
    "    a = dot(x,y)\n",
    "    \n",
    "    b = np.linalg.norm(x)\n",
    "    c = np.linalg.norm(y)\n",
    "    \n",
    "    cos = (a/(b*c))\n",
    "    \n",
    "    return (cos)\n",
    "    \n",
    "\n",
    "    "
   ]
  },
  {
   "cell_type": "code",
   "execution_count": null,
   "metadata": {},
   "outputs": [],
   "source": [
    "# Here I have to create the dictionary with the term ID as key and then the documents where the term id is and also the tfidf.\n",
    "\n",
    "invidx2.copy(invidx)\n",
    "\n",
    "for key, value in docdict.items():\n",
    "    set(value)\n",
    "\n",
    "print(invidx2[:10])\n"
   ]
  },
  {
   "cell_type": "code",
   "execution_count": null,
   "metadata": {},
   "outputs": [],
   "source": []
  }
 ],
 "metadata": {
  "kernelspec": {
   "display_name": "Python 3",
   "language": "python",
   "name": "python3"
  },
  "language_info": {
   "codemirror_mode": {
    "name": "ipython",
    "version": 3
   },
   "file_extension": ".py",
   "mimetype": "text/x-python",
   "name": "python",
   "nbconvert_exporter": "python",
   "pygments_lexer": "ipython3",
   "version": "3.6.5"
  }
 },
 "nbformat": 4,
 "nbformat_minor": 2
}
